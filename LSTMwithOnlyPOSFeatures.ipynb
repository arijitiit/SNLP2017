{
 "cells": [
  {
   "cell_type": "code",
   "execution_count": 1,
   "metadata": {
    "collapsed": true
   },
   "outputs": [],
   "source": [
    "from __future__ import print_function\n",
    "import os, csv\n",
    "from nltk.tag import StanfordPOSTagger\n",
    "from nltk.parse.stanford import StanfordParser"
   ]
  },
  {
   "cell_type": "code",
   "execution_count": 2,
   "metadata": {
    "collapsed": true
   },
   "outputs": [],
   "source": [
    "st = StanfordPOSTagger('../Tools/stanford-postagger-full-2017-06-09/models/english-bidirectional-distsim.tagger','../Tools/stanford-postagger-full-2017-06-09/stanford-postagger-3.8.0.jar')\n",
    "sp = StanfordParser(path_to_jar='../Tools/stanford-parser-full-2017-06-09/stanford-parser.jar',path_to_models_jar='../Tools/stanford-parser-full-2017-06-09/stanford-parser-3.8.0-models.jar')"
   ]
  },
  {
   "cell_type": "code",
   "execution_count": 3,
   "metadata": {
    "collapsed": true
   },
   "outputs": [],
   "source": [
    "def extract_features(text):\n",
    "    features = [{} for i in range(len(text.split()))]\n",
    "    tags = st.tag(text.split())\n",
    "    for i,tag in enumerate(tags):\n",
    "        features[i][tag[1]] = 1\n",
    "        \n",
    "    return features"
   ]
  },
  {
   "cell_type": "code",
   "execution_count": 4,
   "metadata": {
    "collapsed": true
   },
   "outputs": [],
   "source": [
    "X = []\n",
    "y = []\n",
    "for root, dirs, files in os.walk('../Datasets/mpqa535/'):\n",
    "    for f in files:\n",
    "        with open(os.path.join(root,f)) as csvfile:\n",
    "            reader = csv.reader(csvfile)\n",
    "            reader.next()\n",
    "            for row in reader:\n",
    "                X.append(extract_features(row[0]))\n",
    "                y.append(0 if row[1] == 'f' else 1)"
   ]
  },
  {
   "cell_type": "code",
   "execution_count": 18,
   "metadata": {
    "collapsed": true
   },
   "outputs": [],
   "source": [
    "import numpy as np\n",
    "from sklearn.feature_extraction import DictVectorizer\n",
    "vec = DictVectorizer()\n",
    "X1 = [i for j in X for i in j]\n",
    "vec.fit(X1)\n",
    "\n",
    "# X1 = [np.array([vec.transform(j).toarray()[0] for j in i]) for i in X]\n",
    "# X2 = np.asarray(X1)\n",
    "X1 = np.array([np.array([np.where(vec.transform(j).toarray()[0] == 1)[0][0] + 1 for j in i]) for i in X])"
   ]
  },
  {
   "cell_type": "code",
   "execution_count": 20,
   "metadata": {},
   "outputs": [
    {
     "name": "stderr",
     "output_type": "stream",
     "text": [
      "Using TensorFlow backend.\n"
     ]
    }
   ],
   "source": [
    "from keras.preprocessing.sequence import pad_sequences\n",
    "data = pad_sequences(X1)"
   ]
  },
  {
   "cell_type": "code",
   "execution_count": 24,
   "metadata": {
    "collapsed": true
   },
   "outputs": [],
   "source": [
    "labels = np.asarray(y)"
   ]
  },
  {
   "cell_type": "code",
   "execution_count": 27,
   "metadata": {
    "collapsed": true
   },
   "outputs": [],
   "source": [
    "VALIDATION_SPLIT = 0.2\n",
    "\n",
    "indices = np.arange(data.shape[0])\n",
    "np.random.shuffle(indices)\n",
    "data = data[indices]\n",
    "labels = labels[indices]\n",
    "num_validation_samples = int(VALIDATION_SPLIT * data.shape[0])\n",
    "x_train = data[:-num_validation_samples]\n",
    "y_train = labels[:-num_validation_samples]\n",
    "x_val = data[-num_validation_samples:]\n",
    "y_val = labels[-num_validation_samples:]"
   ]
  },
  {
   "cell_type": "code",
   "execution_count": 35,
   "metadata": {},
   "outputs": [],
   "source": [
    "from keras.models import Sequential\n",
    "from keras.layers import Dense, Embedding\n",
    "from keras.layers import LSTM\n",
    "\n",
    "model = Sequential()\n",
    "model.add(Embedding(data.max()+1, 128))\n",
    "model.add(LSTM(128, dropout=0.2, recurrent_dropout=0.2))\n",
    "model.add(Dense(1, activation='sigmoid'))\n",
    "\n",
    "# try using different optimizers and different optimizer configs\n",
    "model.compile(loss='binary_crossentropy',\n",
    "              optimizer='adam',\n",
    "              metrics=['accuracy'])"
   ]
  },
  {
   "cell_type": "code",
   "execution_count": 37,
   "metadata": {},
   "outputs": [
    {
     "name": "stdout",
     "output_type": "stream",
     "text": [
      "Epoch 1/15\n",
      "8886/8886 [==============================] - 70s - loss: 0.6281 - acc: 0.6399    \n",
      "Epoch 2/15\n",
      "8886/8886 [==============================] - 55s - loss: 0.6038 - acc: 0.6763    \n",
      "Epoch 3/15\n",
      "8886/8886 [==============================] - 57s - loss: 0.6004 - acc: 0.6753    \n",
      "Epoch 4/15\n",
      "8886/8886 [==============================] - 61s - loss: 0.5982 - acc: 0.6753    \n",
      "Epoch 5/15\n",
      "8886/8886 [==============================] - 60s - loss: 0.5964 - acc: 0.6753    \n",
      "Epoch 6/15\n",
      "8886/8886 [==============================] - 54s - loss: 0.5951 - acc: 0.6817    \n",
      "Epoch 7/15\n",
      "8886/8886 [==============================] - 53s - loss: 0.5916 - acc: 0.6829    \n",
      "Epoch 8/15\n",
      "8886/8886 [==============================] - 52s - loss: 0.5894 - acc: 0.6829    \n",
      "Epoch 9/15\n",
      "8886/8886 [==============================] - 52s - loss: 0.5860 - acc: 0.6864    \n",
      "Epoch 10/15\n",
      "8886/8886 [==============================] - 52s - loss: 0.5847 - acc: 0.6880    \n",
      "Epoch 11/15\n",
      "8886/8886 [==============================] - 52s - loss: 0.5848 - acc: 0.6922    \n",
      "Epoch 12/15\n",
      "8886/8886 [==============================] - 54s - loss: 0.5819 - acc: 0.6913    \n",
      "Epoch 13/15\n",
      "8886/8886 [==============================] - 52s - loss: 0.5815 - acc: 0.6910    - ETA: 4s - lo\n",
      "Epoch 14/15\n",
      "8886/8886 [==============================] - 52s - loss: 0.5803 - acc: 0.6901    \n",
      "Epoch 15/15\n",
      "8886/8886 [==============================] - 52s - loss: 0.5800 - acc: 0.6913    \n"
     ]
    },
    {
     "data": {
      "text/plain": [
       "<keras.callbacks.History at 0x7f39bb3abf90>"
      ]
     },
     "execution_count": 37,
     "metadata": {},
     "output_type": "execute_result"
    }
   ],
   "source": [
    "model.fit(x_train, y_train,\n",
    "          batch_size=32,\n",
    "          epochs=15)"
   ]
  },
  {
   "cell_type": "code",
   "execution_count": 40,
   "metadata": {},
   "outputs": [
    {
     "name": "stdout",
     "output_type": "stream",
     "text": [
      "2208/2221 [============================>.] - ETA: 0sTest score: 0.622834729188\n",
      "Test accuracy: 0.671769473344\n"
     ]
    }
   ],
   "source": [
    "score, acc = model.evaluate(x_val, y_val,\n",
    "                            batch_size=32)\n",
    "print('Test score:', score)\n",
    "print('Test accuracy:', acc)"
   ]
  }
 ],
 "metadata": {
  "kernelspec": {
   "display_name": "Python 2",
   "language": "python",
   "name": "python2"
  },
  "language_info": {
   "codemirror_mode": {
    "name": "ipython",
    "version": 2
   },
   "file_extension": ".py",
   "mimetype": "text/x-python",
   "name": "python",
   "nbconvert_exporter": "python",
   "pygments_lexer": "ipython2",
   "version": "2.7.13"
  }
 },
 "nbformat": 4,
 "nbformat_minor": 2
}
