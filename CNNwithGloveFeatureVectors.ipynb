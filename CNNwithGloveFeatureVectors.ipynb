{
 "cells": [
  {
   "cell_type": "code",
   "execution_count": 1,
   "metadata": {},
   "outputs": [
    {
     "name": "stderr",
     "output_type": "stream",
     "text": [
      "Using TensorFlow backend.\n"
     ]
    }
   ],
   "source": [
    "from __future__ import print_function\n",
    "\n",
    "import os\n",
    "import sys\n",
    "import numpy as np\n",
    "from keras.preprocessing.text import Tokenizer\n",
    "from keras.preprocessing.sequence import pad_sequences\n",
    "from keras.utils import to_categorical\n",
    "from keras.layers import Dense, Input, Flatten\n",
    "from keras.layers import Conv1D, MaxPooling1D, Embedding\n",
    "from keras.models import Model\n",
    "from sklearn.model_selection import StratifiedKFold"
   ]
  },
  {
   "cell_type": "code",
   "execution_count": 2,
   "metadata": {
    "collapsed": true
   },
   "outputs": [],
   "source": [
    "BASE_DIR = '../Datasets'\n",
    "GLOVE_DIR = BASE_DIR + '/glove.6B/'\n",
    "TEXT_DATA_DIR = BASE_DIR + '/mpqa535/'\n",
    "EMBEDDING_DIM = 100\n",
    "VALIDATION_SPLIT = 0.2"
   ]
  },
  {
   "cell_type": "code",
   "execution_count": 3,
   "metadata": {},
   "outputs": [],
   "source": [
    "embeddings_index = {}\n",
    "f = open(os.path.join(GLOVE_DIR, 'glove.6B.100d.txt'))\n",
    "for line in f:\n",
    "    values = line.split()\n",
    "    word = values[0]\n",
    "    coefs = np.asarray(values[1:], dtype='float32')\n",
    "    embeddings_index[word] = coefs\n",
    "f.close()"
   ]
  },
  {
   "cell_type": "code",
   "execution_count": 4,
   "metadata": {
    "collapsed": true
   },
   "outputs": [],
   "source": [
    "import csv\n",
    "texts = []\n",
    "y = []\n",
    "for root, dirs, files in os.walk('../Datasets/mpqa535/'):\n",
    "    for f in files:\n",
    "        with open(os.path.join(root,f)) as csvfile:\n",
    "            reader = csv.reader(csvfile)\n",
    "            reader.next()\n",
    "            for row in reader:\n",
    "                texts.append(row[0])\n",
    "                y.append(0 if row[1] == 'f' else 1)"
   ]
  },
  {
   "cell_type": "code",
   "execution_count": 5,
   "metadata": {
    "collapsed": true
   },
   "outputs": [],
   "source": [
    "tokenizer = Tokenizer()\n",
    "tokenizer.fit_on_texts(texts)\n",
    "sequences = tokenizer.texts_to_sequences(texts)\n",
    "word_index = tokenizer.word_index"
   ]
  },
  {
   "cell_type": "code",
   "execution_count": 6,
   "metadata": {
    "collapsed": true
   },
   "outputs": [],
   "source": [
    "X = pad_sequences(sequences)\n",
    "y = np.asarray(y)"
   ]
  },
  {
   "cell_type": "code",
   "execution_count": 7,
   "metadata": {
    "collapsed": true
   },
   "outputs": [],
   "source": [
    "indices = np.arange(X.shape[0])\n",
    "np.random.shuffle(indices)\n",
    "X = X[indices]\n",
    "y = y[indices]\n",
    "num_validation_samples = int(VALIDATION_SPLIT * X.shape[0])\n",
    "x_train = X[:-num_validation_samples]\n",
    "y_train = y[:-num_validation_samples]\n",
    "x_val = X[-num_validation_samples:]\n",
    "y_val = y[-num_validation_samples:]"
   ]
  },
  {
   "cell_type": "code",
   "execution_count": 8,
   "metadata": {
    "collapsed": true
   },
   "outputs": [],
   "source": [
    "num_words = len(word_index)\n",
    "embedding_matrix = np.zeros((num_words+1, EMBEDDING_DIM))\n",
    "for word, i in word_index.items():\n",
    "    embedding_vector = embeddings_index.get(word)\n",
    "    if embedding_vector is not None:\n",
    "        embedding_matrix[i] = embedding_vector"
   ]
  },
  {
   "cell_type": "code",
   "execution_count": 9,
   "metadata": {
    "collapsed": true
   },
   "outputs": [],
   "source": [
    "embedding_layer = Embedding(num_words+1,\n",
    "                            EMBEDDING_DIM,\n",
    "                            weights=[embedding_matrix],\n",
    "                            input_length=X.shape[1],\n",
    "                            trainable=False)"
   ]
  },
  {
   "cell_type": "code",
   "execution_count": 10,
   "metadata": {
    "collapsed": true
   },
   "outputs": [],
   "source": [
    "from keras import backend as K\n",
    "\n",
    "def precision(y_true, y_pred):\n",
    "    true_positives = K.sum(K.round(K.clip(y_true * y_pred, 0, 1)))\n",
    "    predicted_positives = K.sum(K.round(K.clip(y_pred, 0, 1)))\n",
    "    precision = true_positives / (predicted_positives + K.epsilon())\n",
    "    return precision\n",
    "\n",
    "def recall(y_true, y_pred):\n",
    "    true_positives = K.sum(K.round(K.clip(y_true * y_pred, 0, 1)))\n",
    "    possible_positives = K.sum(K.round(K.clip(y_true, 0, 1)))\n",
    "    recall = true_positives / (possible_positives + K.epsilon())\n",
    "    return recall\n",
    "\n",
    "def fbeta_score(y_true, y_pred, beta=1):\n",
    "    if beta < 0:\n",
    "        raise ValueError('The lowest choosable beta is zero (only precision).')\n",
    "\n",
    "    # If there are no true positives, fix the F score at 0 like sklearn.\n",
    "    if K.sum(K.round(K.clip(y_true, 0, 1))) == 0:\n",
    "        return 0\n",
    "\n",
    "    p = precision(y_true, y_pred)\n",
    "    r = recall(y_true, y_pred)\n",
    "    bb = beta ** 2\n",
    "    fbeta_score = (1 + bb) * (p * r) / (bb * p + r + K.epsilon())\n",
    "    return fbeta_score\n",
    "\n",
    "def fmeasure(y_true, y_pred):\n",
    "    return fbeta_score(y_true, y_pred, beta=1)"
   ]
  },
  {
   "cell_type": "code",
   "execution_count": 11,
   "metadata": {},
   "outputs": [
    {
     "name": "stdout",
     "output_type": "stream",
     "text": [
      "Train on 8886 samples, validate on 2221 samples\n",
      "Epoch 1/10\n",
      " 256/8886 [..............................] - ETA: 2030s - loss: 0.7556 - acc: 0.4414 - precision: 0.3624 - recall: 0.4593 - fmeasure: 0.3539       "
     ]
    },
    {
     "name": "stderr",
     "output_type": "stream",
     "text": [
      "/home/projjal/anaconda2/lib/python2.7/site-packages/keras/callbacks.py:120: UserWarning: Method on_batch_end() is slow compared to the batch update (0.394409). Check your callbacks.\n",
      "  % delta_t_median)\n"
     ]
    },
    {
     "name": "stdout",
     "output_type": "stream",
     "text": [
      "8886/8886 [==============================] - 68s - loss: 0.5425 - acc: 0.7219 - precision: 0.7418 - recall: 0.7774 - fmeasure: 0.7424 - val_loss: 0.4996 - val_acc: 0.7425 - val_precision: 0.8154 - val_recall: 0.6802 - val_fmeasure: 0.7362\n",
      "Epoch 2/10\n",
      "8886/8886 [==============================] - 8s - loss: 0.4535 - acc: 0.7842 - precision: 0.7997 - recall: 0.8049 - fmeasure: 0.7948 - val_loss: 0.4849 - val_acc: 0.7668 - val_precision: 0.7445 - val_recall: 0.8674 - val_fmeasure: 0.7976\n",
      "Epoch 3/10\n",
      "8886/8886 [==============================] - 8s - loss: 0.4093 - acc: 0.8129 - precision: 0.8287 - recall: 0.8346 - fmeasure: 0.8221 - val_loss: 0.4770 - val_acc: 0.7596 - val_precision: 0.7956 - val_recall: 0.7484 - val_fmeasure: 0.7668\n",
      "Epoch 4/10\n",
      "8886/8886 [==============================] - 8s - loss: 0.3357 - acc: 0.8490 - precision: 0.8652 - recall: 0.8635 - fmeasure: 0.8579 - val_loss: 0.4943 - val_acc: 0.7650 - val_precision: 0.7761 - val_recall: 0.7979 - val_fmeasure: 0.7820\n",
      "Epoch 5/10\n",
      "8886/8886 [==============================] - 8s - loss: 0.2587 - acc: 0.8916 - precision: 0.9056 - recall: 0.8989 - fmeasure: 0.8972 - val_loss: 0.5492 - val_acc: 0.7686 - val_precision: 0.7968 - val_recall: 0.7757 - val_fmeasure: 0.7797\n",
      "Epoch 6/10\n",
      "8886/8886 [==============================] - 8s - loss: 0.1788 - acc: 0.9291 - precision: 0.9387 - recall: 0.9325 - fmeasure: 0.9322 - val_loss: 0.5925 - val_acc: 0.7623 - val_precision: 0.7887 - val_recall: 0.7728 - val_fmeasure: 0.7759\n",
      "Epoch 7/10\n",
      "8886/8886 [==============================] - 8s - loss: 0.1260 - acc: 0.9489 - precision: 0.9586 - recall: 0.9462 - fmeasure: 0.9496 - val_loss: 0.7410 - val_acc: 0.7632 - val_precision: 0.7578 - val_recall: 0.8310 - val_fmeasure: 0.7882\n",
      "Epoch 8/10\n",
      "8886/8886 [==============================] - 8s - loss: 0.0836 - acc: 0.9694 - precision: 0.9759 - recall: 0.9689 - fmeasure: 0.9713 - val_loss: 0.8379 - val_acc: 0.7614 - val_precision: 0.7546 - val_recall: 0.8358 - val_fmeasure: 0.7890\n",
      "Epoch 9/10\n",
      "8886/8886 [==============================] - 8s - loss: 0.0546 - acc: 0.9809 - precision: 0.9865 - recall: 0.9780 - fmeasure: 0.9816 - val_loss: 0.9946 - val_acc: 0.7564 - val_precision: 0.7510 - val_recall: 0.8313 - val_fmeasure: 0.7850\n",
      "Epoch 10/10\n",
      "8886/8886 [==============================] - 8s - loss: 0.0564 - acc: 0.9810 - precision: 0.9864 - recall: 0.9794 - fmeasure: 0.9823 - val_loss: 1.0209 - val_acc: 0.7443 - val_precision: 0.7734 - val_recall: 0.7558 - val_fmeasure: 0.7585\n"
     ]
    },
    {
     "data": {
      "text/plain": [
       "<keras.callbacks.History at 0x7f42ec3fc990>"
      ]
     },
     "execution_count": 11,
     "metadata": {},
     "output_type": "execute_result"
    }
   ],
   "source": [
    "from keras.layers import Dense, Input, Flatten\n",
    "from keras.layers import Conv1D, MaxPooling1D, Embedding\n",
    "\n",
    "sequence_input = Input(shape=(X.shape[1],), dtype='int32')\n",
    "embedded_sequences = embedding_layer(sequence_input)\n",
    "x = Conv1D(128, 3, activation='relu')(embedded_sequences)\n",
    "x = MaxPooling1D(2)(x)\n",
    "x = Conv1D(128, 3, activation='relu')(x)\n",
    "x = MaxPooling1D(2)(x)\n",
    "x = Conv1D(128, 3, activation='relu')(x)\n",
    "x = MaxPooling1D(31)(x)\n",
    "\n",
    "x = Flatten()(x)\n",
    "\n",
    "preds = Dense(1, activation='sigmoid')(x)\n",
    "\n",
    "model = Model(sequence_input, preds)\n",
    "model.compile(loss='binary_crossentropy',\n",
    "              optimizer='adam',\n",
    "              metrics=['acc',precision, recall, fmeasure])\n",
    "\n",
    "model.fit(x_train, y_train,\n",
    "          batch_size=32,\n",
    "          epochs=10,\n",
    "          validation_data=(x_val, y_val))"
   ]
  }
 ],
 "metadata": {
  "kernelspec": {
   "display_name": "Python 2",
   "language": "python",
   "name": "python2"
  },
  "language_info": {
   "codemirror_mode": {
    "name": "ipython",
    "version": 2
   },
   "file_extension": ".py",
   "mimetype": "text/x-python",
   "name": "python",
   "nbconvert_exporter": "python",
   "pygments_lexer": "ipython2",
   "version": "2.7.13"
  }
 },
 "nbformat": 4,
 "nbformat_minor": 2
}
