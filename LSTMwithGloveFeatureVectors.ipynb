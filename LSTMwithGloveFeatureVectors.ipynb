{
 "cells": [
  {
   "cell_type": "code",
   "execution_count": 1,
   "metadata": {},
   "outputs": [
    {
     "name": "stderr",
     "output_type": "stream",
     "text": [
      "Using TensorFlow backend.\n"
     ]
    }
   ],
   "source": [
    "from __future__ import print_function\n",
    "\n",
    "import os\n",
    "import sys\n",
    "import numpy as np\n",
    "from keras.preprocessing.text import Tokenizer\n",
    "from keras.preprocessing.sequence import pad_sequences\n",
    "from keras.utils import to_categorical\n",
    "from keras.layers import Dense, Input, Flatten\n",
    "from keras.layers import Conv1D, MaxPooling1D, Embedding\n",
    "from keras.models import Model\n",
    "from sklearn.model_selection import StratifiedKFold"
   ]
  },
  {
   "cell_type": "code",
   "execution_count": 2,
   "metadata": {
    "collapsed": true
   },
   "outputs": [],
   "source": [
    "BASE_DIR = '../Datasets'\n",
    "GLOVE_DIR = BASE_DIR + '/glove.6B/'\n",
    "TEXT_DATA_DIR = BASE_DIR + '/mpqa535/'\n",
    "EMBEDDING_DIM = 100\n",
    "VALIDATION_SPLIT = 0.2"
   ]
  },
  {
   "cell_type": "code",
   "execution_count": 3,
   "metadata": {
    "collapsed": true
   },
   "outputs": [],
   "source": [
    "embeddings_index = {}\n",
    "f = open(os.path.join(GLOVE_DIR, 'glove.6B.100d.txt'))\n",
    "for line in f:\n",
    "    values = line.split()\n",
    "    word = values[0]\n",
    "    coefs = np.asarray(values[1:], dtype='float32')\n",
    "    embeddings_index[word] = coefs\n",
    "f.close()"
   ]
  },
  {
   "cell_type": "code",
   "execution_count": 4,
   "metadata": {
    "collapsed": true
   },
   "outputs": [],
   "source": [
    "import csv\n",
    "texts = []\n",
    "labels = []\n",
    "for root, dirs, files in os.walk('../Datasets/mpqa535/'):\n",
    "    for f in files:\n",
    "        with open(os.path.join(root,f)) as csvfile:\n",
    "            reader = csv.reader(csvfile)\n",
    "            reader.next()\n",
    "            for row in reader:\n",
    "                texts.append(row[0])\n",
    "                labels.append(0 if row[1] == 'f' else 1)"
   ]
  },
  {
   "cell_type": "code",
   "execution_count": 5,
   "metadata": {
    "collapsed": true
   },
   "outputs": [],
   "source": [
    "tokenizer = Tokenizer()\n",
    "tokenizer.fit_on_texts(texts)\n",
    "sequences = tokenizer.texts_to_sequences(texts)\n",
    "word_index = tokenizer.word_index"
   ]
  },
  {
   "cell_type": "code",
   "execution_count": 6,
   "metadata": {
    "collapsed": true
   },
   "outputs": [],
   "source": [
    "X = pad_sequences(sequences)\n",
    "y = np.asarray(labels)"
   ]
  },
  {
   "cell_type": "code",
   "execution_count": 7,
   "metadata": {
    "collapsed": true
   },
   "outputs": [],
   "source": [
    "indices = np.arange(X.shape[0])\n",
    "np.random.shuffle(indices)\n",
    "X = X[indices]\n",
    "y = y[indices]\n",
    "# num_validation_samples = int(VALIDATION_SPLIT * X.shape[0])\n",
    "# x_train = X[:-num_validation_samples]\n",
    "# y_train = y[:-num_validation_samples]\n",
    "# x_val = X[-num_validation_samples:]\n",
    "# y_val = y[-num_validation_samples:]"
   ]
  },
  {
   "cell_type": "code",
   "execution_count": 8,
   "metadata": {
    "collapsed": true
   },
   "outputs": [],
   "source": [
    "num_words = len(word_index)\n",
    "embedding_matrix = np.zeros((num_words+1, EMBEDDING_DIM))\n",
    "for word, i in word_index.items():\n",
    "    embedding_vector = embeddings_index.get(word)\n",
    "    if embedding_vector is not None:\n",
    "        embedding_matrix[i] = embedding_vector"
   ]
  },
  {
   "cell_type": "code",
   "execution_count": 9,
   "metadata": {
    "collapsed": true
   },
   "outputs": [],
   "source": [
    "embedding_layer = Embedding(num_words+1,\n",
    "                            EMBEDDING_DIM,\n",
    "                            weights=[embedding_matrix],\n",
    "                            input_length=X.shape[1],\n",
    "                            trainable=False)"
   ]
  },
  {
   "cell_type": "code",
   "execution_count": 10,
   "metadata": {
    "collapsed": true
   },
   "outputs": [],
   "source": [
    "from keras import backend as K\n",
    "\n",
    "def precision(y_true, y_pred):\n",
    "    true_positives = K.sum(K.round(K.clip(y_true * y_pred, 0, 1)))\n",
    "    predicted_positives = K.sum(K.round(K.clip(y_pred, 0, 1)))\n",
    "    precision = true_positives / (predicted_positives + K.epsilon())\n",
    "    return precision\n",
    "\n",
    "def recall(y_true, y_pred):\n",
    "    true_positives = K.sum(K.round(K.clip(y_true * y_pred, 0, 1)))\n",
    "    possible_positives = K.sum(K.round(K.clip(y_true, 0, 1)))\n",
    "    recall = true_positives / (possible_positives + K.epsilon())\n",
    "    return recall\n",
    "\n",
    "def fbeta_score(y_true, y_pred, beta=1):\n",
    "    if beta < 0:\n",
    "        raise ValueError('The lowest choosable beta is zero (only precision).')\n",
    "\n",
    "    # If there are no true positives, fix the F score at 0 like sklearn.\n",
    "    if K.sum(K.round(K.clip(y_true, 0, 1))) == 0:\n",
    "        return 0\n",
    "\n",
    "    p = precision(y_true, y_pred)\n",
    "    r = recall(y_true, y_pred)\n",
    "    bb = beta ** 2\n",
    "    fbeta_score = (1 + bb) * (p * r) / (bb * p + r + K.epsilon())\n",
    "    return fbeta_score\n",
    "\n",
    "def fmeasure(y_true, y_pred):\n",
    "    return fbeta_score(y_true, y_pred, beta=1)"
   ]
  },
  {
   "cell_type": "code",
   "execution_count": 11,
   "metadata": {},
   "outputs": [
    {
     "name": "stdout",
     "output_type": "stream",
     "text": [
      "Epoch 1/15\n",
      "8885/8885 [==============================] - 71s - loss: 0.5883 - acc: 0.6859 - precision: 0.6882 - recall: 0.7783 - fmeasure: 0.7209    \n",
      "Epoch 2/15\n",
      "8885/8885 [==============================] - 57s - loss: 0.5374 - acc: 0.7285 - precision: 0.7303 - recall: 0.7980 - fmeasure: 0.7556    \n",
      "Epoch 3/15\n",
      "8885/8885 [==============================] - 55s - loss: 0.5070 - acc: 0.7543 - precision: 0.7579 - recall: 0.8041 - fmeasure: 0.7731    \n",
      "Epoch 4/15\n",
      "8885/8885 [==============================] - 55s - loss: 0.4868 - acc: 0.7600 - precision: 0.7611 - recall: 0.8134 - fmeasure: 0.7804    \n",
      "Epoch 5/15\n",
      "8885/8885 [==============================] - 55s - loss: 0.4768 - acc: 0.7663 - precision: 0.7694 - recall: 0.8125 - fmeasure: 0.7851    \n",
      "Epoch 6/15\n",
      "8885/8885 [==============================] - 55s - loss: 0.4737 - acc: 0.7749 - precision: 0.7761 - recall: 0.8246 - fmeasure: 0.7936    \n",
      "Epoch 7/15\n",
      "8885/8885 [==============================] - 55s - loss: 0.4601 - acc: 0.7837 - precision: 0.7863 - recall: 0.8241 - fmeasure: 0.7992    \n",
      "Epoch 8/15\n",
      "8885/8885 [==============================] - 52s - loss: 0.4614 - acc: 0.7845 - precision: 0.7829 - recall: 0.8318 - fmeasure: 0.8006    \n",
      "Epoch 9/15\n",
      "8885/8885 [==============================] - 52s - loss: 0.4544 - acc: 0.7804 - precision: 0.7827 - recall: 0.8217 - fmeasure: 0.7965    \n",
      "Epoch 10/15\n",
      "8885/8885 [==============================] - 52s - loss: 0.4500 - acc: 0.7845 - precision: 0.7866 - recall: 0.8269 - fmeasure: 0.8015    \n",
      "Epoch 11/15\n",
      "8885/8885 [==============================] - 52s - loss: 0.4495 - acc: 0.7832 - precision: 0.7835 - recall: 0.8332 - fmeasure: 0.8020    \n",
      "Epoch 12/15\n",
      "8885/8885 [==============================] - 51s - loss: 0.4452 - acc: 0.7872 - precision: 0.7878 - recall: 0.8285 - fmeasure: 0.8032    \n",
      "Epoch 13/15\n",
      "8885/8885 [==============================] - 51s - loss: 0.4347 - acc: 0.8012 - precision: 0.8039 - recall: 0.8382 - fmeasure: 0.8152    \n",
      "Epoch 14/15\n",
      "8885/8885 [==============================] - 51s - loss: 0.4417 - acc: 0.7934 - precision: 0.7929 - recall: 0.8384 - fmeasure: 0.8098    \n",
      "Epoch 15/15\n",
      "8885/8885 [==============================] - 52s - loss: 0.4327 - acc: 0.7945 - precision: 0.8009 - recall: 0.8297 - fmeasure: 0.8095    \n",
      "2222/2222 [==============================] - 3s     \n",
      "score 0.428842750677\n",
      "accuracy 0.803780378306\n",
      "precision 0.806569206725\n",
      "recall 0.833013711375\n",
      "fmeasure 0.816010934721\n",
      "Mean score: 0.428842750677\n",
      "Mean accuracy: 0.803780378306\n",
      "Mean precision: 0.806569206725\n",
      "Mean recall: 0.833013711375\n",
      "Mean fmeasure: 0.816010934721\n"
     ]
    }
   ],
   "source": [
    "from keras.models import Sequential\n",
    "from keras.layers import LSTM\n",
    "\n",
    "seed = 7\n",
    "np.random.seed(seed)\n",
    "kfold = StratifiedKFold(n_splits=5, shuffle=True, random_state=seed)\n",
    "scores = []\n",
    "accuracies = []\n",
    "precs = []\n",
    "recalls = []\n",
    "fms = []\n",
    "for train, test in kfold.split(X, y):\n",
    "    model = Sequential()\n",
    "    model.add(embedding_layer)\n",
    "    model.add(LSTM(EMBEDDING_DIM, dropout=0.5, recurrent_dropout=0.5))\n",
    "    model.add(Dense(1, activation='sigmoid'))\n",
    "\n",
    "    model.compile(loss='binary_crossentropy',\n",
    "                  optimizer='adam',\n",
    "                  metrics=['accuracy', precision, recall, fmeasure])\n",
    "\n",
    "    batch_size = 32\n",
    "    model.fit(X[train], y[train],\n",
    "              batch_size=batch_size,\n",
    "              epochs=15)\n",
    "\n",
    "    score, acc, prec, rec, fmeas = model.evaluate(X[test], y[test],\n",
    "                                batch_size=batch_size)\n",
    "    print('score',score)\n",
    "    print('accuracy',acc)\n",
    "    print('precision',prec)\n",
    "    print('recall',rec)\n",
    "    print('fmeasure',fmeas)\n",
    "    scores.append(score)\n",
    "    accuracies.append(acc)\n",
    "    precs.append(prec)\n",
    "    recalls.append(rec)\n",
    "    fms.append(fmeas)\n",
    "    break\n",
    "    \n",
    "    \n",
    "print('Mean score:', np.mean(scores))\n",
    "print('Mean accuracy:', np.mean(accuracies))\n",
    "print('Mean precision:', np.mean(precs))\n",
    "print('Mean recall:', np.mean(recalls))\n",
    "print('Mean fmeasure:', np.mean(fms))"
   ]
  },
  {
   "cell_type": "code",
   "execution_count": 13,
   "metadata": {
    "collapsed": true
   },
   "outputs": [],
   "source": [
    "model.save('lstm_glove.h5')"
   ]
  }
 ],
 "metadata": {
  "kernelspec": {
   "display_name": "Python 2",
   "language": "python",
   "name": "python2"
  },
  "language_info": {
   "codemirror_mode": {
    "name": "ipython",
    "version": 2
   },
   "file_extension": ".py",
   "mimetype": "text/x-python",
   "name": "python",
   "nbconvert_exporter": "python",
   "pygments_lexer": "ipython2",
   "version": "2.7.13"
  }
 },
 "nbformat": 4,
 "nbformat_minor": 2
}
