{
 "cells": [
  {
   "cell_type": "code",
   "execution_count": 1,
   "metadata": {},
   "outputs": [
    {
     "name": "stderr",
     "output_type": "stream",
     "text": [
      "Using TensorFlow backend.\n"
     ]
    }
   ],
   "source": [
    "from __future__ import print_function\n",
    "\n",
    "import os\n",
    "import sys\n",
    "import numpy as np\n",
    "from keras.preprocessing.text import Tokenizer\n",
    "from keras.preprocessing.sequence import pad_sequences\n",
    "from keras.utils import to_categorical\n",
    "from keras.layers import Dense, Input, Flatten\n",
    "from keras.layers import Conv1D, MaxPooling1D, Embedding\n",
    "from keras.models import Model\n",
    "from sklearn.model_selection import StratifiedKFold"
   ]
  },
  {
   "cell_type": "code",
   "execution_count": 2,
   "metadata": {
    "collapsed": true
   },
   "outputs": [],
   "source": [
    "BASE_DIR = '../Datasets/'\n",
    "TEXT_DATA_DIR = BASE_DIR + '/mpqa535/'\n",
    "EMBEDDING_DIM = 300\n",
    "VALIDATION_SPLIT = 0.2"
   ]
  },
  {
   "cell_type": "code",
   "execution_count": 3,
   "metadata": {
    "collapsed": true
   },
   "outputs": [],
   "source": [
    "embeddings_index = {}\n",
    "f = open(os.path.join(BASE_DIR, 'wiki_extvec'))\n",
    "for line in f:\n",
    "    values = line.split()\n",
    "    word = values[0]\n",
    "    coefs = np.asarray(values[1:], dtype='float32')\n",
    "    embeddings_index[word] = coefs\n",
    "f.close()"
   ]
  },
  {
   "cell_type": "code",
   "execution_count": 4,
   "metadata": {
    "collapsed": true
   },
   "outputs": [],
   "source": [
    "import csv\n",
    "texts = []\n",
    "labels = []\n",
    "for root, dirs, files in os.walk('../Datasets/mpqa535/'):\n",
    "    for f in files:\n",
    "        with open(os.path.join(root,f)) as csvfile:\n",
    "            reader = csv.reader(csvfile)\n",
    "            reader.next()\n",
    "            for row in reader:\n",
    "                texts.append(row[0])\n",
    "                labels.append(0 if row[1] == 'f' else 1)"
   ]
  },
  {
   "cell_type": "code",
   "execution_count": 5,
   "metadata": {
    "collapsed": true
   },
   "outputs": [],
   "source": [
    "tokenizer = Tokenizer()\n",
    "tokenizer.fit_on_texts(texts)\n",
    "sequences = tokenizer.texts_to_sequences(texts)\n",
    "word_index = tokenizer.word_index"
   ]
  },
  {
   "cell_type": "code",
   "execution_count": 6,
   "metadata": {
    "collapsed": true
   },
   "outputs": [],
   "source": [
    "X = pad_sequences(sequences)\n",
    "y = np.asarray(labels)"
   ]
  },
  {
   "cell_type": "code",
   "execution_count": 7,
   "metadata": {
    "collapsed": true
   },
   "outputs": [],
   "source": [
    "indices = np.arange(X.shape[0])\n",
    "np.random.shuffle(indices)\n",
    "X = X[indices]\n",
    "y = y[indices]\n",
    "# num_validation_samples = int(VALIDATION_SPLIT * X.shape[0])\n",
    "# x_train = X[:-num_validation_samples]\n",
    "# y_train = y[:-num_validation_samples]\n",
    "# x_val = X[-num_validation_samples:]\n",
    "# y_val = y[-num_validation_samples:]"
   ]
  },
  {
   "cell_type": "code",
   "execution_count": 8,
   "metadata": {
    "collapsed": true
   },
   "outputs": [],
   "source": [
    "num_words = len(word_index)\n",
    "embedding_matrix = np.zeros((num_words+1, EMBEDDING_DIM))\n",
    "for word, i in word_index.items():\n",
    "    embedding_vector = embeddings_index.get(word)\n",
    "    if embedding_vector is not None:\n",
    "        embedding_matrix[i] = embedding_vector"
   ]
  },
  {
   "cell_type": "code",
   "execution_count": 9,
   "metadata": {
    "collapsed": true
   },
   "outputs": [],
   "source": [
    "embedding_layer = Embedding(num_words+1,\n",
    "                            EMBEDDING_DIM,\n",
    "                            weights=[embedding_matrix],\n",
    "                            input_length=X.shape[1],\n",
    "                            trainable=False)"
   ]
  },
  {
   "cell_type": "code",
   "execution_count": 10,
   "metadata": {
    "collapsed": true
   },
   "outputs": [],
   "source": [
    "from keras import backend as K\n",
    "\n",
    "def precision(y_true, y_pred):\n",
    "    true_positives = K.sum(K.round(K.clip(y_true * y_pred, 0, 1)))\n",
    "    predicted_positives = K.sum(K.round(K.clip(y_pred, 0, 1)))\n",
    "    precision = true_positives / (predicted_positives + K.epsilon())\n",
    "    return precision\n",
    "\n",
    "def recall(y_true, y_pred):\n",
    "    true_positives = K.sum(K.round(K.clip(y_true * y_pred, 0, 1)))\n",
    "    possible_positives = K.sum(K.round(K.clip(y_true, 0, 1)))\n",
    "    recall = true_positives / (possible_positives + K.epsilon())\n",
    "    return recall\n",
    "\n",
    "def fbeta_score(y_true, y_pred, beta=1):\n",
    "    if beta < 0:\n",
    "        raise ValueError('The lowest choosable beta is zero (only precision).')\n",
    "\n",
    "    # If there are no true positives, fix the F score at 0 like sklearn.\n",
    "    if K.sum(K.round(K.clip(y_true, 0, 1))) == 0:\n",
    "        return 0\n",
    "\n",
    "    p = precision(y_true, y_pred)\n",
    "    r = recall(y_true, y_pred)\n",
    "    bb = beta ** 2\n",
    "    fbeta_score = (1 + bb) * (p * r) / (bb * p + r + K.epsilon())\n",
    "    return fbeta_score\n",
    "\n",
    "def fmeasure(y_true, y_pred):\n",
    "    return fbeta_score(y_true, y_pred, beta=1)"
   ]
  },
  {
   "cell_type": "code",
   "execution_count": 11,
   "metadata": {},
   "outputs": [
    {
     "name": "stdout",
     "output_type": "stream",
     "text": [
      "Epoch 1/15\n",
      "8885/8885 [==============================] - 88s - loss: 0.5707 - acc: 0.7056 - precision: 0.7178 - recall: 0.7833 - fmeasure: 0.7333    \n",
      "Epoch 2/15\n",
      "8885/8885 [==============================] - 86s - loss: 0.4976 - acc: 0.7605 - precision: 0.7651 - recall: 0.8145 - fmeasure: 0.7791    \n",
      "Epoch 3/15\n",
      "8885/8885 [==============================] - 81s - loss: 0.4567 - acc: 0.7845 - precision: 0.7896 - recall: 0.8246 - fmeasure: 0.8000    \n",
      "Epoch 4/15\n",
      "8885/8885 [==============================] - 83s - loss: 0.4285 - acc: 0.7980 - precision: 0.8022 - recall: 0.8322 - fmeasure: 0.8115    \n",
      "Epoch 5/15\n",
      "8885/8885 [==============================] - 82s - loss: 0.4080 - acc: 0.8125 - precision: 0.8215 - recall: 0.8399 - fmeasure: 0.8245    \n",
      "Epoch 6/15\n",
      "8885/8885 [==============================] - 85s - loss: 0.3930 - acc: 0.8179 - precision: 0.8238 - recall: 0.8473 - fmeasure: 0.8300    \n",
      "Epoch 7/15\n",
      "8885/8885 [==============================] - 86s - loss: 0.3726 - acc: 0.8245 - precision: 0.8309 - recall: 0.8514 - fmeasure: 0.8349    \n",
      "Epoch 8/15\n",
      "8885/8885 [==============================] - 88s - loss: 0.3555 - acc: 0.8338 - precision: 0.8410 - recall: 0.8565 - fmeasure: 0.8428    \n",
      "Epoch 9/15\n",
      "8885/8885 [==============================] - 150s - loss: 0.3323 - acc: 0.8500 - precision: 0.8547 - recall: 0.8689 - fmeasure: 0.8575   \n",
      "Epoch 10/15\n",
      "8885/8885 [==============================] - 211s - loss: 0.3043 - acc: 0.8652 - precision: 0.8719 - recall: 0.8837 - fmeasure: 0.8727   \n",
      "Epoch 11/15\n",
      "8885/8885 [==============================] - 176s - loss: 0.2870 - acc: 0.8764 - precision: 0.8792 - recall: 0.8939 - fmeasure: 0.8816   \n",
      "Epoch 12/15\n",
      "8885/8885 [==============================] - 216s - loss: 0.2657 - acc: 0.8835 - precision: 0.8873 - recall: 0.9052 - fmeasure: 0.8918   \n",
      "Epoch 13/15\n",
      "8885/8885 [==============================] - 190s - loss: 0.2261 - acc: 0.9050 - precision: 0.9075 - recall: 0.9190 - fmeasure: 0.9106   \n",
      "Epoch 14/15\n",
      "8885/8885 [==============================] - 231s - loss: 0.2079 - acc: 0.9184 - precision: 0.9191 - recall: 0.9311 - fmeasure: 0.9225   \n",
      "Epoch 15/15\n",
      "8885/8885 [==============================] - 185s - loss: 0.1838 - acc: 0.9253 - precision: 0.9309 - recall: 0.9328 - fmeasure: 0.9293   \n",
      "2222/2222 [==============================] - 18s    \n",
      "score 0.513919462984\n",
      "accuracy 0.801530153123\n",
      "precision 0.793170667306\n",
      "recall 0.856103162042\n",
      "fmeasure 0.820325159039\n",
      "Mean score: 0.513919462984\n",
      "Mean accuracy: 0.801530153123\n",
      "Mean precision: 0.793170667306\n",
      "Mean recall: 0.856103162042\n",
      "Mean fmeasure: 0.820325159039\n"
     ]
    }
   ],
   "source": [
    "from keras.models import Sequential\n",
    "from keras.layers import LSTM\n",
    "\n",
    "seed = 7\n",
    "np.random.seed(seed)\n",
    "kfold = StratifiedKFold(n_splits=5, shuffle=True, random_state=seed)\n",
    "scores = []\n",
    "accuracies = []\n",
    "precs = []\n",
    "recalls = []\n",
    "fms = []\n",
    "for train, test in kfold.split(X, y):\n",
    "    model = Sequential()\n",
    "    model.add(embedding_layer)\n",
    "    model.add(LSTM(EMBEDDING_DIM, dropout=0.3, recurrent_dropout=0.3))\n",
    "    model.add(Dense(1, activation='sigmoid'))\n",
    "\n",
    "    model.compile(loss='binary_crossentropy',\n",
    "                  optimizer='adam',\n",
    "                  metrics=['accuracy', precision, recall, fmeasure])\n",
    "\n",
    "    batch_size = 32\n",
    "    model.fit(X[train], y[train],\n",
    "              batch_size=batch_size,\n",
    "              epochs=15)\n",
    "\n",
    "    score, acc, prec, rec, fmeas = model.evaluate(X[test], y[test],\n",
    "                                batch_size=batch_size)\n",
    "    print('score',score)\n",
    "    print('accuracy',acc)\n",
    "    print('precision',prec)\n",
    "    print('recall',rec)\n",
    "    print('fmeasure',fmeas)\n",
    "    scores.append(score)\n",
    "    accuracies.append(acc)\n",
    "    precs.append(prec)\n",
    "    recalls.append(rec)\n",
    "    fms.append(fmeas)\n",
    "    break\n",
    "    \n",
    "print('Mean score:', np.mean(scores))\n",
    "print('Mean accuracy:', np.mean(accuracies))\n",
    "print('Mean precision:', np.mean(precs))\n",
    "print('Mean recall:', np.mean(recalls))\n",
    "print('Mean fmeasure:', np.mean(fms))"
   ]
  },
  {
   "cell_type": "code",
   "execution_count": 13,
   "metadata": {},
   "outputs": [],
   "source": [
    "model.save('lstm_dependency.h5')"
   ]
  }
 ],
 "metadata": {
  "kernelspec": {
   "display_name": "Python 2",
   "language": "python",
   "name": "python2"
  },
  "language_info": {
   "codemirror_mode": {
    "name": "ipython",
    "version": 2
   },
   "file_extension": ".py",
   "mimetype": "text/x-python",
   "name": "python",
   "nbconvert_exporter": "python",
   "pygments_lexer": "ipython2",
   "version": "2.7.13"
  }
 },
 "nbformat": 4,
 "nbformat_minor": 2
}
