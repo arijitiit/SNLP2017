{
 "cells": [
  {
   "cell_type": "code",
   "execution_count": 1,
   "metadata": {},
   "outputs": [
    {
     "name": "stderr",
     "output_type": "stream",
     "text": [
      "Using TensorFlow backend.\n"
     ]
    }
   ],
   "source": [
    "from __future__ import print_function\n",
    "\n",
    "import os\n",
    "import sys, csv\n",
    "import numpy as np\n",
    "from keras.preprocessing.text import Tokenizer\n",
    "from keras.preprocessing.sequence import pad_sequences"
   ]
  },
  {
   "cell_type": "code",
   "execution_count": 2,
   "metadata": {
    "collapsed": true
   },
   "outputs": [],
   "source": [
    "texts = []\n",
    "labels = []\n",
    "for root, dirs, files in os.walk('../Datasets/mpqa535/'):\n",
    "    for f in files:\n",
    "        with open(os.path.join(root,f)) as csvfile:\n",
    "            reader = csv.reader(csvfile)\n",
    "            reader.next()\n",
    "            for row in reader:\n",
    "                texts.append(row[0])\n",
    "                labels.append(0 if row[1] == 'f' else 1)\n",
    "\n",
    "for root, dirs, files in os.walk('../Datasets/120/'):\n",
    "    for f in files:\n",
    "        with open(os.path.join(root,f)) as csvfile:\n",
    "            reader = csv.reader(csvfile)\n",
    "            reader.next()\n",
    "            for row in reader:\n",
    "                texts.append(row[0])\n",
    "                labels.append(0 if row[1] == 'f' else 1)\n",
    "\n",
    "tokenizer = Tokenizer()\n",
    "tokenizer.fit_on_texts(texts)"
   ]
  },
  {
   "cell_type": "code",
   "execution_count": 3,
   "metadata": {
    "collapsed": true
   },
   "outputs": [],
   "source": [
    "from keras import backend as K\n",
    "\n",
    "def precision(y_true, y_pred):\n",
    "    true_positives = K.sum(K.round(K.clip(y_true * y_pred, 0, 1)))\n",
    "    predicted_positives = K.sum(K.round(K.clip(y_pred, 0, 1)))\n",
    "    precision = true_positives / (predicted_positives + K.epsilon())\n",
    "    return precision\n",
    "\n",
    "def recall(y_true, y_pred):\n",
    "    true_positives = K.sum(K.round(K.clip(y_true * y_pred, 0, 1)))\n",
    "    possible_positives = K.sum(K.round(K.clip(y_true, 0, 1)))\n",
    "    recall = true_positives / (possible_positives + K.epsilon())\n",
    "    return recall\n",
    "\n",
    "def fbeta_score(y_true, y_pred, beta=1):\n",
    "    if beta < 0:\n",
    "        raise ValueError('The lowest choosable beta is zero (only precision).')\n",
    "\n",
    "    # If there are no true positives, fix the F score at 0 like sklearn.\n",
    "    if K.sum(K.round(K.clip(y_true, 0, 1))) == 0:\n",
    "        return 0\n",
    "\n",
    "    p = precision(y_true, y_pred)\n",
    "    r = recall(y_true, y_pred)\n",
    "    bb = beta ** 2\n",
    "    fbeta_score = (1 + bb) * (p * r) / (bb * p + r + K.epsilon())\n",
    "    return fbeta_score\n",
    "\n",
    "def fmeasure(y_true, y_pred):\n",
    "    return fbeta_score(y_true, y_pred, beta=1)\n",
    "\n",
    "from keras.models import load_model\n",
    "\n",
    "model = load_model(\"../Projects/OpinionDetection/Notebooks/lstm_dep_all.h5\",custom_objects={'precision': precision, 'recall':recall, 'fmeasure':fmeasure})"
   ]
  },
  {
   "cell_type": "code",
   "execution_count": 5,
   "metadata": {},
   "outputs": [],
   "source": [
    "import nltk.data\n",
    "import os\n",
    "from nltk.tokenize import sent_tokenize\n",
    "# tokenizer = nltk.data.load('tokenizers/punkt/english.pickle')\n",
    "\n",
    "with open('result_guardian.csv','w') as csvfile:\n",
    "    writer = csv.writer(csvfile)\n",
    "    for root, dirs, files in os.walk('../Datasets/GuardianNews/'):\n",
    "        for f in files:\n",
    "            with open(os.path.join(root,f)) as article:\n",
    "                sents = sent_tokenize(article.read())\n",
    "                sequences = tokenizer.texts_to_sequences(sents)\n",
    "                X = pad_sequences(sequences, maxlen=141)\n",
    "                scores = model.predict(X).reshape(-1)\n",
    "                top5Index = scores.argsort()[-5:][::-1]\n",
    "                out = [f,np.mean(scores)]\n",
    "                for i in top5Index:\n",
    "                    out.append(sents[i])\n",
    "                writer.writerow(out)"
   ]
  }
 ],
 "metadata": {
  "kernelspec": {
   "display_name": "Python 2",
   "language": "python",
   "name": "python2"
  },
  "language_info": {
   "codemirror_mode": {
    "name": "ipython",
    "version": 2
   },
   "file_extension": ".py",
   "mimetype": "text/x-python",
   "name": "python",
   "nbconvert_exporter": "python",
   "pygments_lexer": "ipython2",
   "version": "2.7.13"
  }
 },
 "nbformat": 4,
 "nbformat_minor": 2
}
